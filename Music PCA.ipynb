{
 "cells": [
  {
   "cell_type": "markdown",
   "id": "1d0ee859",
   "metadata": {},
   "source": [
    "# Importing necessary Libraries"
   ]
  },
  {
   "cell_type": "code",
   "execution_count": 1,
   "id": "f26bbd16",
   "metadata": {},
   "outputs": [],
   "source": [
    "import pandas as pd\n",
    "import numpy as np\n",
    "import scipy\n",
    "\n",
    "from sklearn.model_selection import train_test_split\n",
    "from sklearn.linear_model import LogisticRegression\n",
    "\n",
    "from sklearn.metrics import classification_report, accuracy_score \n",
    "from sklearn.preprocessing import StandardScaler, LabelEncoder\n",
    "from sklearn.decomposition import PCA\n",
    "\n",
    "import matplotlib.pyplot as plt\n",
    "import seaborn as sns\n",
    "sns.set()"
   ]
  },
  {
   "cell_type": "markdown",
   "id": "394962c8",
   "metadata": {},
   "source": [
    "# Reading the Music data"
   ]
  },
  {
   "cell_type": "code",
   "execution_count": 2,
   "id": "a17b84ad",
   "metadata": {
    "scrolled": true
   },
   "outputs": [
    {
     "data": {
      "text/html": [
       "<div>\n",
       "<style scoped>\n",
       "    .dataframe tbody tr th:only-of-type {\n",
       "        vertical-align: middle;\n",
       "    }\n",
       "\n",
       "    .dataframe tbody tr th {\n",
       "        vertical-align: top;\n",
       "    }\n",
       "\n",
       "    .dataframe thead th {\n",
       "        text-align: right;\n",
       "    }\n",
       "</style>\n",
       "<table border=\"1\" class=\"dataframe\">\n",
       "  <thead>\n",
       "    <tr style=\"text-align: right;\">\n",
       "      <th></th>\n",
       "      <th>Tempo</th>\n",
       "      <th>Dynamics Range</th>\n",
       "      <th>Vocal Presence</th>\n",
       "      <th>Percussion Strength</th>\n",
       "      <th>String Instrument Detection</th>\n",
       "      <th>Electronic Element Presence</th>\n",
       "      <th>Rhythm Complexity</th>\n",
       "      <th>Drums Influence</th>\n",
       "      <th>Distorted Guitar</th>\n",
       "      <th>Metal Frequencies</th>\n",
       "      <th>Ambient Sound Influence</th>\n",
       "      <th>Instrumental Overlaps</th>\n",
       "      <th>Genre</th>\n",
       "    </tr>\n",
       "  </thead>\n",
       "  <tbody>\n",
       "    <tr>\n",
       "      <th>0</th>\n",
       "      <td>114.618354</td>\n",
       "      <td>57.976367</td>\n",
       "      <td>53.251766</td>\n",
       "      <td>99.061840</td>\n",
       "      <td>14.686768</td>\n",
       "      <td>17.628630</td>\n",
       "      <td>46.545522</td>\n",
       "      <td>75.839434</td>\n",
       "      <td>79.378892</td>\n",
       "      <td>71.753088</td>\n",
       "      <td>96.439665</td>\n",
       "      <td>53.771763</td>\n",
       "      <td>Country</td>\n",
       "    </tr>\n",
       "    <tr>\n",
       "      <th>1</th>\n",
       "      <td>116.672803</td>\n",
       "      <td>69.387087</td>\n",
       "      <td>95.787280</td>\n",
       "      <td>90.831033</td>\n",
       "      <td>47.280419</td>\n",
       "      <td>-15.618194</td>\n",
       "      <td>85.421085</td>\n",
       "      <td>100.455908</td>\n",
       "      <td>0.713015</td>\n",
       "      <td>0.000000</td>\n",
       "      <td>17.327295</td>\n",
       "      <td>15.017146</td>\n",
       "      <td>Classical</td>\n",
       "    </tr>\n",
       "    <tr>\n",
       "      <th>2</th>\n",
       "      <td>128.328121</td>\n",
       "      <td>52.930677</td>\n",
       "      <td>65.701187</td>\n",
       "      <td>104.439247</td>\n",
       "      <td>5.984994</td>\n",
       "      <td>50.467388</td>\n",
       "      <td>18.006722</td>\n",
       "      <td>77.642913</td>\n",
       "      <td>80.652946</td>\n",
       "      <td>87.692110</td>\n",
       "      <td>95.125207</td>\n",
       "      <td>25.308020</td>\n",
       "      <td>Rock</td>\n",
       "    </tr>\n",
       "    <tr>\n",
       "      <th>3</th>\n",
       "      <td>128.511337</td>\n",
       "      <td>25.494755</td>\n",
       "      <td>14.095374</td>\n",
       "      <td>40.106130</td>\n",
       "      <td>47.715584</td>\n",
       "      <td>87.335201</td>\n",
       "      <td>68.603329</td>\n",
       "      <td>63.536557</td>\n",
       "      <td>74.888346</td>\n",
       "      <td>76.239108</td>\n",
       "      <td>97.016998</td>\n",
       "      <td>96.893109</td>\n",
       "      <td>Hip-hop</td>\n",
       "    </tr>\n",
       "    <tr>\n",
       "      <th>4</th>\n",
       "      <td>135.474190</td>\n",
       "      <td>45.174876</td>\n",
       "      <td>101.469872</td>\n",
       "      <td>70.002203</td>\n",
       "      <td>108.177637</td>\n",
       "      <td>25.865590</td>\n",
       "      <td>31.295163</td>\n",
       "      <td>81.121030</td>\n",
       "      <td>36.178193</td>\n",
       "      <td>23.381542</td>\n",
       "      <td>53.753793</td>\n",
       "      <td>30.142986</td>\n",
       "      <td>Country</td>\n",
       "    </tr>\n",
       "  </tbody>\n",
       "</table>\n",
       "</div>"
      ],
      "text/plain": [
       "        Tempo  Dynamics Range  Vocal Presence  Percussion Strength  \\\n",
       "0  114.618354       57.976367       53.251766            99.061840   \n",
       "1  116.672803       69.387087       95.787280            90.831033   \n",
       "2  128.328121       52.930677       65.701187           104.439247   \n",
       "3  128.511337       25.494755       14.095374            40.106130   \n",
       "4  135.474190       45.174876      101.469872            70.002203   \n",
       "\n",
       "   String Instrument Detection  Electronic Element Presence  \\\n",
       "0                    14.686768                    17.628630   \n",
       "1                    47.280419                   -15.618194   \n",
       "2                     5.984994                    50.467388   \n",
       "3                    47.715584                    87.335201   \n",
       "4                   108.177637                    25.865590   \n",
       "\n",
       "   Rhythm Complexity  Drums Influence  Distorted Guitar  Metal Frequencies  \\\n",
       "0          46.545522        75.839434         79.378892          71.753088   \n",
       "1          85.421085       100.455908          0.713015           0.000000   \n",
       "2          18.006722        77.642913         80.652946          87.692110   \n",
       "3          68.603329        63.536557         74.888346          76.239108   \n",
       "4          31.295163        81.121030         36.178193          23.381542   \n",
       "\n",
       "   Ambient Sound Influence  Instrumental Overlaps      Genre  \n",
       "0                96.439665              53.771763    Country  \n",
       "1                17.327295              15.017146  Classical  \n",
       "2                95.125207              25.308020       Rock  \n",
       "3                97.016998              96.893109    Hip-hop  \n",
       "4                53.753793              30.142986    Country  "
      ]
     },
     "execution_count": 2,
     "metadata": {},
     "output_type": "execute_result"
    }
   ],
   "source": [
    "music = pd.read_csv('music_dataset_mod.csv')\n",
    "music.head()"
   ]
  },
  {
   "cell_type": "markdown",
   "id": "e9f327a6",
   "metadata": {},
   "source": [
    "### Data Exploration And Preprocessing"
   ]
  },
  {
   "cell_type": "code",
   "execution_count": 3,
   "id": "e544a7cc",
   "metadata": {},
   "outputs": [],
   "source": [
    "df =music.copy()"
   ]
  },
  {
   "cell_type": "code",
   "execution_count": 4,
   "id": "ce22bd40",
   "metadata": {},
   "outputs": [
    {
     "data": {
      "text/html": [
       "<div>\n",
       "<style scoped>\n",
       "    .dataframe tbody tr th:only-of-type {\n",
       "        vertical-align: middle;\n",
       "    }\n",
       "\n",
       "    .dataframe tbody tr th {\n",
       "        vertical-align: top;\n",
       "    }\n",
       "\n",
       "    .dataframe thead th {\n",
       "        text-align: right;\n",
       "    }\n",
       "</style>\n",
       "<table border=\"1\" class=\"dataframe\">\n",
       "  <thead>\n",
       "    <tr style=\"text-align: right;\">\n",
       "      <th></th>\n",
       "      <th>Tempo</th>\n",
       "      <th>Dynamics Range</th>\n",
       "      <th>Vocal Presence</th>\n",
       "      <th>Percussion Strength</th>\n",
       "      <th>String Instrument Detection</th>\n",
       "      <th>Electronic Element Presence</th>\n",
       "      <th>Rhythm Complexity</th>\n",
       "      <th>Drums Influence</th>\n",
       "      <th>Distorted Guitar</th>\n",
       "      <th>Metal Frequencies</th>\n",
       "      <th>Ambient Sound Influence</th>\n",
       "      <th>Instrumental Overlaps</th>\n",
       "      <th>Genre</th>\n",
       "    </tr>\n",
       "  </thead>\n",
       "  <tbody>\n",
       "    <tr>\n",
       "      <th>0</th>\n",
       "      <td>114.618354</td>\n",
       "      <td>57.976367</td>\n",
       "      <td>53.251766</td>\n",
       "      <td>99.061840</td>\n",
       "      <td>14.686768</td>\n",
       "      <td>17.628630</td>\n",
       "      <td>46.545522</td>\n",
       "      <td>75.839434</td>\n",
       "      <td>79.378892</td>\n",
       "      <td>71.753088</td>\n",
       "      <td>96.439665</td>\n",
       "      <td>53.771763</td>\n",
       "      <td>Country</td>\n",
       "    </tr>\n",
       "    <tr>\n",
       "      <th>1</th>\n",
       "      <td>116.672803</td>\n",
       "      <td>69.387087</td>\n",
       "      <td>95.787280</td>\n",
       "      <td>90.831033</td>\n",
       "      <td>47.280419</td>\n",
       "      <td>-15.618194</td>\n",
       "      <td>85.421085</td>\n",
       "      <td>100.455908</td>\n",
       "      <td>0.713015</td>\n",
       "      <td>0.000000</td>\n",
       "      <td>17.327295</td>\n",
       "      <td>15.017146</td>\n",
       "      <td>Classical</td>\n",
       "    </tr>\n",
       "    <tr>\n",
       "      <th>2</th>\n",
       "      <td>128.328121</td>\n",
       "      <td>52.930677</td>\n",
       "      <td>65.701187</td>\n",
       "      <td>104.439247</td>\n",
       "      <td>5.984994</td>\n",
       "      <td>50.467388</td>\n",
       "      <td>18.006722</td>\n",
       "      <td>77.642913</td>\n",
       "      <td>80.652946</td>\n",
       "      <td>87.692110</td>\n",
       "      <td>95.125207</td>\n",
       "      <td>25.308020</td>\n",
       "      <td>Rock</td>\n",
       "    </tr>\n",
       "    <tr>\n",
       "      <th>3</th>\n",
       "      <td>128.511337</td>\n",
       "      <td>25.494755</td>\n",
       "      <td>14.095374</td>\n",
       "      <td>40.106130</td>\n",
       "      <td>47.715584</td>\n",
       "      <td>87.335201</td>\n",
       "      <td>68.603329</td>\n",
       "      <td>63.536557</td>\n",
       "      <td>74.888346</td>\n",
       "      <td>76.239108</td>\n",
       "      <td>97.016998</td>\n",
       "      <td>96.893109</td>\n",
       "      <td>Hip-hop</td>\n",
       "    </tr>\n",
       "    <tr>\n",
       "      <th>4</th>\n",
       "      <td>135.474190</td>\n",
       "      <td>45.174876</td>\n",
       "      <td>101.469872</td>\n",
       "      <td>70.002203</td>\n",
       "      <td>108.177637</td>\n",
       "      <td>25.865590</td>\n",
       "      <td>31.295163</td>\n",
       "      <td>81.121030</td>\n",
       "      <td>36.178193</td>\n",
       "      <td>23.381542</td>\n",
       "      <td>53.753793</td>\n",
       "      <td>30.142986</td>\n",
       "      <td>Country</td>\n",
       "    </tr>\n",
       "  </tbody>\n",
       "</table>\n",
       "</div>"
      ],
      "text/plain": [
       "        Tempo  Dynamics Range  Vocal Presence  Percussion Strength  \\\n",
       "0  114.618354       57.976367       53.251766            99.061840   \n",
       "1  116.672803       69.387087       95.787280            90.831033   \n",
       "2  128.328121       52.930677       65.701187           104.439247   \n",
       "3  128.511337       25.494755       14.095374            40.106130   \n",
       "4  135.474190       45.174876      101.469872            70.002203   \n",
       "\n",
       "   String Instrument Detection  Electronic Element Presence  \\\n",
       "0                    14.686768                    17.628630   \n",
       "1                    47.280419                   -15.618194   \n",
       "2                     5.984994                    50.467388   \n",
       "3                    47.715584                    87.335201   \n",
       "4                   108.177637                    25.865590   \n",
       "\n",
       "   Rhythm Complexity  Drums Influence  Distorted Guitar  Metal Frequencies  \\\n",
       "0          46.545522        75.839434         79.378892          71.753088   \n",
       "1          85.421085       100.455908          0.713015           0.000000   \n",
       "2          18.006722        77.642913         80.652946          87.692110   \n",
       "3          68.603329        63.536557         74.888346          76.239108   \n",
       "4          31.295163        81.121030         36.178193          23.381542   \n",
       "\n",
       "   Ambient Sound Influence  Instrumental Overlaps      Genre  \n",
       "0                96.439665              53.771763    Country  \n",
       "1                17.327295              15.017146  Classical  \n",
       "2                95.125207              25.308020       Rock  \n",
       "3                97.016998              96.893109    Hip-hop  \n",
       "4                53.753793              30.142986    Country  "
      ]
     },
     "execution_count": 4,
     "metadata": {},
     "output_type": "execute_result"
    }
   ],
   "source": [
    "df.head()"
   ]
  },
  {
   "cell_type": "code",
   "execution_count": 5,
   "id": "ea60206f",
   "metadata": {},
   "outputs": [
    {
     "name": "stdout",
     "output_type": "stream",
     "text": [
      "<class 'pandas.core.frame.DataFrame'>\n",
      "RangeIndex: 1000 entries, 0 to 999\n",
      "Data columns (total 13 columns):\n",
      " #   Column                       Non-Null Count  Dtype  \n",
      "---  ------                       --------------  -----  \n",
      " 0   Tempo                        1000 non-null   float64\n",
      " 1   Dynamics Range               1000 non-null   float64\n",
      " 2   Vocal Presence               1000 non-null   float64\n",
      " 3   Percussion Strength          1000 non-null   float64\n",
      " 4   String Instrument Detection  1000 non-null   float64\n",
      " 5   Electronic Element Presence  1000 non-null   float64\n",
      " 6   Rhythm Complexity            1000 non-null   float64\n",
      " 7   Drums Influence              1000 non-null   float64\n",
      " 8   Distorted Guitar             1000 non-null   float64\n",
      " 9   Metal Frequencies            1000 non-null   float64\n",
      " 10  Ambient Sound Influence      1000 non-null   float64\n",
      " 11  Instrumental Overlaps        1000 non-null   float64\n",
      " 12  Genre                        890 non-null    object \n",
      "dtypes: float64(12), object(1)\n",
      "memory usage: 101.7+ KB\n"
     ]
    }
   ],
   "source": [
    "df.info()"
   ]
  },
  {
   "cell_type": "code",
   "execution_count": 6,
   "id": "80ba3241",
   "metadata": {},
   "outputs": [
    {
     "data": {
      "text/plain": [
       "array(['Country', 'Classical', 'Rock', 'Hip-hop', nan, 'Jazz'],\n",
       "      dtype=object)"
      ]
     },
     "execution_count": 6,
     "metadata": {},
     "output_type": "execute_result"
    }
   ],
   "source": [
    "df['Genre'].unique()"
   ]
  },
  {
   "cell_type": "code",
   "execution_count": 7,
   "id": "4808cd5a",
   "metadata": {},
   "outputs": [
    {
     "data": {
      "text/plain": [
       "<Axes: xlabel='Genre', ylabel='count'>"
      ]
     },
     "execution_count": 7,
     "metadata": {},
     "output_type": "execute_result"
    },
    {
     "data": {
      "image/png": "[encoded data removed]",
      "text/plain": [
       "<Figure size 640x480 with 1 Axes>"
      ]
     },
     "metadata": {},
     "output_type": "display_data"
    }
   ],
   "source": [
    "sns.countplot(x='Genre',data=df)"
   ]
  },
  {
   "cell_type": "code",
   "execution_count": 8,
   "id": "5b2af91e",
   "metadata": {},
   "outputs": [],
   "source": [
    "df2 = df.dropna(subset=['Genre']).copy()"
   ]
  },
  {
   "cell_type": "code",
   "execution_count": 9,
   "id": "03f8edda",
   "metadata": {
    "scrolled": true
   },
   "outputs": [
    {
     "name": "stdout",
     "output_type": "stream",
     "text": [
      "<class 'pandas.core.frame.DataFrame'>\n",
      "Int64Index: 890 entries, 0 to 999\n",
      "Data columns (total 13 columns):\n",
      " #   Column                       Non-Null Count  Dtype  \n",
      "---  ------                       --------------  -----  \n",
      " 0   Tempo                        890 non-null    float64\n",
      " 1   Dynamics Range               890 non-null    float64\n",
      " 2   Vocal Presence               890 non-null    float64\n",
      " 3   Percussion Strength          890 non-null    float64\n",
      " 4   String Instrument Detection  890 non-null    float64\n",
      " 5   Electronic Element Presence  890 non-null    float64\n",
      " 6   Rhythm Complexity            890 non-null    float64\n",
      " 7   Drums Influence              890 non-null    float64\n",
      " 8   Distorted Guitar             890 non-null    float64\n",
      " 9   Metal Frequencies            890 non-null    float64\n",
      " 10  Ambient Sound Influence      890 non-null    float64\n",
      " 11  Instrumental Overlaps        890 non-null    float64\n",
      " 12  Genre                        890 non-null    object \n",
      "dtypes: float64(12), object(1)\n",
      "memory usage: 97.3+ KB\n"
     ]
    }
   ],
   "source": [
    "df2.info()"
   ]
  },
  {
   "cell_type": "markdown",
   "id": "3bc713b7",
   "metadata": {},
   "source": [
    "### Encoding Catagorical values"
   ]
  },
  {
   "cell_type": "code",
   "execution_count": 10,
   "id": "88d5aec5",
   "metadata": {},
   "outputs": [],
   "source": [
    "label_encoder = LabelEncoder()"
   ]
  },
  {
   "cell_type": "code",
   "execution_count": 11,
   "id": "830b0746",
   "metadata": {},
   "outputs": [],
   "source": [
    "df2['Genre_encoded'] = label_encoder.fit_transform(df2['Genre'])"
   ]
  },
  {
   "cell_type": "code",
   "execution_count": 12,
   "id": "ca44f9c4",
   "metadata": {},
   "outputs": [],
   "source": [
    "new = df2.assign(Genre=df2['Genre_encoded']).drop(columns=['Genre_encoded'])\n"
   ]
  },
  {
   "cell_type": "code",
   "execution_count": 13,
   "id": "dacef77d",
   "metadata": {},
   "outputs": [
    {
     "data": {
      "text/html": [
       "<div>\n",
       "<style scoped>\n",
       "    .dataframe tbody tr th:only-of-type {\n",
       "        vertical-align: middle;\n",
       "    }\n",
       "\n",
       "    .dataframe tbody tr th {\n",
       "        vertical-align: top;\n",
       "    }\n",
       "\n",
       "    .dataframe thead th {\n",
       "        text-align: right;\n",
       "    }\n",
       "</style>\n",
       "<table border=\"1\" class=\"dataframe\">\n",
       "  <thead>\n",
       "    <tr style=\"text-align: right;\">\n",
       "      <th></th>\n",
       "      <th>Tempo</th>\n",
       "      <th>Dynamics Range</th>\n",
       "      <th>Vocal Presence</th>\n",
       "      <th>Percussion Strength</th>\n",
       "      <th>String Instrument Detection</th>\n",
       "      <th>Electronic Element Presence</th>\n",
       "      <th>Rhythm Complexity</th>\n",
       "      <th>Drums Influence</th>\n",
       "      <th>Distorted Guitar</th>\n",
       "      <th>Metal Frequencies</th>\n",
       "      <th>Ambient Sound Influence</th>\n",
       "      <th>Instrumental Overlaps</th>\n",
       "      <th>Genre</th>\n",
       "    </tr>\n",
       "  </thead>\n",
       "  <tbody>\n",
       "    <tr>\n",
       "      <th>0</th>\n",
       "      <td>114.618354</td>\n",
       "      <td>57.976367</td>\n",
       "      <td>53.251766</td>\n",
       "      <td>99.061840</td>\n",
       "      <td>14.686768</td>\n",
       "      <td>17.628630</td>\n",
       "      <td>46.545522</td>\n",
       "      <td>75.839434</td>\n",
       "      <td>79.378892</td>\n",
       "      <td>71.753088</td>\n",
       "      <td>96.439665</td>\n",
       "      <td>53.771763</td>\n",
       "      <td>1</td>\n",
       "    </tr>\n",
       "    <tr>\n",
       "      <th>1</th>\n",
       "      <td>116.672803</td>\n",
       "      <td>69.387087</td>\n",
       "      <td>95.787280</td>\n",
       "      <td>90.831033</td>\n",
       "      <td>47.280419</td>\n",
       "      <td>-15.618194</td>\n",
       "      <td>85.421085</td>\n",
       "      <td>100.455908</td>\n",
       "      <td>0.713015</td>\n",
       "      <td>0.000000</td>\n",
       "      <td>17.327295</td>\n",
       "      <td>15.017146</td>\n",
       "      <td>0</td>\n",
       "    </tr>\n",
       "    <tr>\n",
       "      <th>2</th>\n",
       "      <td>128.328121</td>\n",
       "      <td>52.930677</td>\n",
       "      <td>65.701187</td>\n",
       "      <td>104.439247</td>\n",
       "      <td>5.984994</td>\n",
       "      <td>50.467388</td>\n",
       "      <td>18.006722</td>\n",
       "      <td>77.642913</td>\n",
       "      <td>80.652946</td>\n",
       "      <td>87.692110</td>\n",
       "      <td>95.125207</td>\n",
       "      <td>25.308020</td>\n",
       "      <td>4</td>\n",
       "    </tr>\n",
       "    <tr>\n",
       "      <th>3</th>\n",
       "      <td>128.511337</td>\n",
       "      <td>25.494755</td>\n",
       "      <td>14.095374</td>\n",
       "      <td>40.106130</td>\n",
       "      <td>47.715584</td>\n",
       "      <td>87.335201</td>\n",
       "      <td>68.603329</td>\n",
       "      <td>63.536557</td>\n",
       "      <td>74.888346</td>\n",
       "      <td>76.239108</td>\n",
       "      <td>97.016998</td>\n",
       "      <td>96.893109</td>\n",
       "      <td>2</td>\n",
       "    </tr>\n",
       "    <tr>\n",
       "      <th>4</th>\n",
       "      <td>135.474190</td>\n",
       "      <td>45.174876</td>\n",
       "      <td>101.469872</td>\n",
       "      <td>70.002203</td>\n",
       "      <td>108.177637</td>\n",
       "      <td>25.865590</td>\n",
       "      <td>31.295163</td>\n",
       "      <td>81.121030</td>\n",
       "      <td>36.178193</td>\n",
       "      <td>23.381542</td>\n",
       "      <td>53.753793</td>\n",
       "      <td>30.142986</td>\n",
       "      <td>1</td>\n",
       "    </tr>\n",
       "  </tbody>\n",
       "</table>\n",
       "</div>"
      ],
      "text/plain": [
       "        Tempo  Dynamics Range  Vocal Presence  Percussion Strength  \\\n",
       "0  114.618354       57.976367       53.251766            99.061840   \n",
       "1  116.672803       69.387087       95.787280            90.831033   \n",
       "2  128.328121       52.930677       65.701187           104.439247   \n",
       "3  128.511337       25.494755       14.095374            40.106130   \n",
       "4  135.474190       45.174876      101.469872            70.002203   \n",
       "\n",
       "   String Instrument Detection  Electronic Element Presence  \\\n",
       "0                    14.686768                    17.628630   \n",
       "1                    47.280419                   -15.618194   \n",
       "2                     5.984994                    50.467388   \n",
       "3                    47.715584                    87.335201   \n",
       "4                   108.177637                    25.865590   \n",
       "\n",
       "   Rhythm Complexity  Drums Influence  Distorted Guitar  Metal Frequencies  \\\n",
       "0          46.545522        75.839434         79.378892          71.753088   \n",
       "1          85.421085       100.455908          0.713015           0.000000   \n",
       "2          18.006722        77.642913         80.652946          87.692110   \n",
       "3          68.603329        63.536557         74.888346          76.239108   \n",
       "4          31.295163        81.121030         36.178193          23.381542   \n",
       "\n",
       "   Ambient Sound Influence  Instrumental Overlaps  Genre  \n",
       "0                96.439665              53.771763      1  \n",
       "1                17.327295              15.017146      0  \n",
       "2                95.125207              25.308020      4  \n",
       "3                97.016998              96.893109      2  \n",
       "4                53.753793              30.142986      1  "
      ]
     },
     "execution_count": 13,
     "metadata": {},
     "output_type": "execute_result"
    }
   ],
   "source": [
    "new.head()"
   ]
  },
  {
   "cell_type": "markdown",
   "id": "cdc1c72b",
   "metadata": {},
   "source": [
    "### correlation Analysis"
   ]
  },
  {
   "cell_type": "code",
   "execution_count": 14,
   "id": "ca66b49d",
   "metadata": {},
   "outputs": [],
   "source": [
    "correlation_matrix = new.corr()\n"
   ]
  },
  {
   "cell_type": "code",
   "execution_count": 15,
   "id": "2634a015",
   "metadata": {},
   "outputs": [
    {
     "data": {
      "image/png": "[encoded data removed]",
      "text/plain": [
       "<Figure size 800x600 with 2 Axes>"
      ]
     },
     "metadata": {},
     "output_type": "display_data"
    }
   ],
   "source": [
    "plt.figure(figsize=(8, 6))\n",
    "sns.heatmap(correlation_matrix, annot=True, cmap='coolwarm', fmt=\".2f\", linewidths=0.5)\n",
    "plt.title('Correlation Matrix Heatmap')\n",
    "plt.show()"
   ]
  },
  {
   "cell_type": "code",
   "execution_count": 16,
   "id": "50591dd5",
   "metadata": {},
   "outputs": [],
   "source": [
    "X = new.drop(columns='Genre')\n",
    "y = new['Genre']"
   ]
  },
  {
   "cell_type": "code",
   "execution_count": 17,
   "id": "b0a34eb0",
   "metadata": {},
   "outputs": [
    {
     "data": {
      "text/html": [
       "<div>\n",
       "<style scoped>\n",
       "    .dataframe tbody tr th:only-of-type {\n",
       "        vertical-align: middle;\n",
       "    }\n",
       "\n",
       "    .dataframe tbody tr th {\n",
       "        vertical-align: top;\n",
       "    }\n",
       "\n",
       "    .dataframe thead th {\n",
       "        text-align: right;\n",
       "    }\n",
       "</style>\n",
       "<table border=\"1\" class=\"dataframe\">\n",
       "  <thead>\n",
       "    <tr style=\"text-align: right;\">\n",
       "      <th></th>\n",
       "      <th>Tempo</th>\n",
       "      <th>Dynamics Range</th>\n",
       "      <th>Vocal Presence</th>\n",
       "      <th>Percussion Strength</th>\n",
       "      <th>String Instrument Detection</th>\n",
       "      <th>Electronic Element Presence</th>\n",
       "      <th>Rhythm Complexity</th>\n",
       "      <th>Drums Influence</th>\n",
       "      <th>Distorted Guitar</th>\n",
       "      <th>Metal Frequencies</th>\n",
       "      <th>Ambient Sound Influence</th>\n",
       "      <th>Instrumental Overlaps</th>\n",
       "    </tr>\n",
       "  </thead>\n",
       "  <tbody>\n",
       "    <tr>\n",
       "      <th>0</th>\n",
       "      <td>114.618354</td>\n",
       "      <td>57.976367</td>\n",
       "      <td>53.251766</td>\n",
       "      <td>99.061840</td>\n",
       "      <td>14.686768</td>\n",
       "      <td>17.628630</td>\n",
       "      <td>46.545522</td>\n",
       "      <td>75.839434</td>\n",
       "      <td>79.378892</td>\n",
       "      <td>71.753088</td>\n",
       "      <td>96.439665</td>\n",
       "      <td>53.771763</td>\n",
       "    </tr>\n",
       "    <tr>\n",
       "      <th>1</th>\n",
       "      <td>116.672803</td>\n",
       "      <td>69.387087</td>\n",
       "      <td>95.787280</td>\n",
       "      <td>90.831033</td>\n",
       "      <td>47.280419</td>\n",
       "      <td>-15.618194</td>\n",
       "      <td>85.421085</td>\n",
       "      <td>100.455908</td>\n",
       "      <td>0.713015</td>\n",
       "      <td>0.000000</td>\n",
       "      <td>17.327295</td>\n",
       "      <td>15.017146</td>\n",
       "    </tr>\n",
       "    <tr>\n",
       "      <th>2</th>\n",
       "      <td>128.328121</td>\n",
       "      <td>52.930677</td>\n",
       "      <td>65.701187</td>\n",
       "      <td>104.439247</td>\n",
       "      <td>5.984994</td>\n",
       "      <td>50.467388</td>\n",
       "      <td>18.006722</td>\n",
       "      <td>77.642913</td>\n",
       "      <td>80.652946</td>\n",
       "      <td>87.692110</td>\n",
       "      <td>95.125207</td>\n",
       "      <td>25.308020</td>\n",
       "    </tr>\n",
       "    <tr>\n",
       "      <th>3</th>\n",
       "      <td>128.511337</td>\n",
       "      <td>25.494755</td>\n",
       "      <td>14.095374</td>\n",
       "      <td>40.106130</td>\n",
       "      <td>47.715584</td>\n",
       "      <td>87.335201</td>\n",
       "      <td>68.603329</td>\n",
       "      <td>63.536557</td>\n",
       "      <td>74.888346</td>\n",
       "      <td>76.239108</td>\n",
       "      <td>97.016998</td>\n",
       "      <td>96.893109</td>\n",
       "    </tr>\n",
       "    <tr>\n",
       "      <th>4</th>\n",
       "      <td>135.474190</td>\n",
       "      <td>45.174876</td>\n",
       "      <td>101.469872</td>\n",
       "      <td>70.002203</td>\n",
       "      <td>108.177637</td>\n",
       "      <td>25.865590</td>\n",
       "      <td>31.295163</td>\n",
       "      <td>81.121030</td>\n",
       "      <td>36.178193</td>\n",
       "      <td>23.381542</td>\n",
       "      <td>53.753793</td>\n",
       "      <td>30.142986</td>\n",
       "    </tr>\n",
       "    <tr>\n",
       "      <th>...</th>\n",
       "      <td>...</td>\n",
       "      <td>...</td>\n",
       "      <td>...</td>\n",
       "      <td>...</td>\n",
       "      <td>...</td>\n",
       "      <td>...</td>\n",
       "      <td>...</td>\n",
       "      <td>...</td>\n",
       "      <td>...</td>\n",
       "      <td>...</td>\n",
       "      <td>...</td>\n",
       "      <td>...</td>\n",
       "    </tr>\n",
       "    <tr>\n",
       "      <th>973</th>\n",
       "      <td>133.807084</td>\n",
       "      <td>43.093084</td>\n",
       "      <td>88.711355</td>\n",
       "      <td>38.195402</td>\n",
       "      <td>25.365896</td>\n",
       "      <td>87.613700</td>\n",
       "      <td>74.603838</td>\n",
       "      <td>87.775499</td>\n",
       "      <td>28.055663</td>\n",
       "      <td>19.389458</td>\n",
       "      <td>74.576379</td>\n",
       "      <td>59.205448</td>\n",
       "    </tr>\n",
       "    <tr>\n",
       "      <th>996</th>\n",
       "      <td>126.570862</td>\n",
       "      <td>57.812829</td>\n",
       "      <td>90.809940</td>\n",
       "      <td>64.880583</td>\n",
       "      <td>40.437517</td>\n",
       "      <td>38.051344</td>\n",
       "      <td>66.204244</td>\n",
       "      <td>95.770959</td>\n",
       "      <td>1.745673</td>\n",
       "      <td>6.729019</td>\n",
       "      <td>82.042218</td>\n",
       "      <td>43.590027</td>\n",
       "    </tr>\n",
       "    <tr>\n",
       "      <th>997</th>\n",
       "      <td>121.731543</td>\n",
       "      <td>51.385204</td>\n",
       "      <td>33.849400</td>\n",
       "      <td>17.044544</td>\n",
       "      <td>84.483481</td>\n",
       "      <td>13.312790</td>\n",
       "      <td>8.953013</td>\n",
       "      <td>64.068960</td>\n",
       "      <td>90.738580</td>\n",
       "      <td>96.043437</td>\n",
       "      <td>5.499350</td>\n",
       "      <td>74.604889</td>\n",
       "    </tr>\n",
       "    <tr>\n",
       "      <th>998</th>\n",
       "      <td>97.070804</td>\n",
       "      <td>19.210429</td>\n",
       "      <td>62.662860</td>\n",
       "      <td>22.720453</td>\n",
       "      <td>66.917937</td>\n",
       "      <td>80.590809</td>\n",
       "      <td>51.403310</td>\n",
       "      <td>50.828636</td>\n",
       "      <td>68.518232</td>\n",
       "      <td>55.119045</td>\n",
       "      <td>21.781372</td>\n",
       "      <td>24.716517</td>\n",
       "    </tr>\n",
       "    <tr>\n",
       "      <th>999</th>\n",
       "      <td>71.050781</td>\n",
       "      <td>32.967250</td>\n",
       "      <td>62.875776</td>\n",
       "      <td>78.868747</td>\n",
       "      <td>88.094454</td>\n",
       "      <td>59.148014</td>\n",
       "      <td>83.420324</td>\n",
       "      <td>59.582109</td>\n",
       "      <td>37.329193</td>\n",
       "      <td>44.576693</td>\n",
       "      <td>87.458414</td>\n",
       "      <td>78.270683</td>\n",
       "    </tr>\n",
       "  </tbody>\n",
       "</table>\n",
       "<p>890 rows × 12 columns</p>\n",
       "</div>"
      ],
      "text/plain": [
       "          Tempo  Dynamics Range  Vocal Presence  Percussion Strength  \\\n",
       "0    114.618354       57.976367       53.251766            99.061840   \n",
       "1    116.672803       69.387087       95.787280            90.831033   \n",
       "2    128.328121       52.930677       65.701187           104.439247   \n",
       "3    128.511337       25.494755       14.095374            40.106130   \n",
       "4    135.474190       45.174876      101.469872            70.002203   \n",
       "..          ...             ...             ...                  ...   \n",
       "973  133.807084       43.093084       88.711355            38.195402   \n",
       "996  126.570862       57.812829       90.809940            64.880583   \n",
       "997  121.731543       51.385204       33.849400            17.044544   \n",
       "998   97.070804       19.210429       62.662860            22.720453   \n",
       "999   71.050781       32.967250       62.875776            78.868747   \n",
       "\n",
       "     String Instrument Detection  Electronic Element Presence  \\\n",
       "0                      14.686768                    17.628630   \n",
       "1                      47.280419                   -15.618194   \n",
       "2                       5.984994                    50.467388   \n",
       "3                      47.715584                    87.335201   \n",
       "4                     108.177637                    25.865590   \n",
       "..                           ...                          ...   \n",
       "973                    25.365896                    87.613700   \n",
       "996                    40.437517                    38.051344   \n",
       "997                    84.483481                    13.312790   \n",
       "998                    66.917937                    80.590809   \n",
       "999                    88.094454                    59.148014   \n",
       "\n",
       "     Rhythm Complexity  Drums Influence  Distorted Guitar  Metal Frequencies  \\\n",
       "0            46.545522        75.839434         79.378892          71.753088   \n",
       "1            85.421085       100.455908          0.713015           0.000000   \n",
       "2            18.006722        77.642913         80.652946          87.692110   \n",
       "3            68.603329        63.536557         74.888346          76.239108   \n",
       "4            31.295163        81.121030         36.178193          23.381542   \n",
       "..                 ...              ...               ...                ...   \n",
       "973          74.603838        87.775499         28.055663          19.389458   \n",
       "996          66.204244        95.770959          1.745673           6.729019   \n",
       "997           8.953013        64.068960         90.738580          96.043437   \n",
       "998          51.403310        50.828636         68.518232          55.119045   \n",
       "999          83.420324        59.582109         37.329193          44.576693   \n",
       "\n",
       "     Ambient Sound Influence  Instrumental Overlaps  \n",
       "0                  96.439665              53.771763  \n",
       "1                  17.327295              15.017146  \n",
       "2                  95.125207              25.308020  \n",
       "3                  97.016998              96.893109  \n",
       "4                  53.753793              30.142986  \n",
       "..                       ...                    ...  \n",
       "973                74.576379              59.205448  \n",
       "996                82.042218              43.590027  \n",
       "997                 5.499350              74.604889  \n",
       "998                21.781372              24.716517  \n",
       "999                87.458414              78.270683  \n",
       "\n",
       "[890 rows x 12 columns]"
      ]
     },
     "execution_count": 17,
     "metadata": {},
     "output_type": "execute_result"
    }
   ],
   "source": [
    "X"
   ]
  },
  {
   "cell_type": "code",
   "execution_count": 18,
   "id": "69658381",
   "metadata": {},
   "outputs": [
    {
     "data": {
      "text/plain": [
       "0      1\n",
       "1      0\n",
       "2      4\n",
       "3      2\n",
       "4      1\n",
       "      ..\n",
       "973    2\n",
       "996    0\n",
       "997    4\n",
       "998    4\n",
       "999    3\n",
       "Name: Genre, Length: 890, dtype: int32"
      ]
     },
     "execution_count": 18,
     "metadata": {},
     "output_type": "execute_result"
    }
   ],
   "source": [
    "y"
   ]
  },
  {
   "cell_type": "markdown",
   "id": "763f3435",
   "metadata": {},
   "source": [
    "### standardizing the data and applying PCA"
   ]
  },
  {
   "cell_type": "code",
   "execution_count": 19,
   "id": "2680f9bb",
   "metadata": {},
   "outputs": [],
   "source": [
    "scaler =StandardScaler()"
   ]
  },
  {
   "cell_type": "code",
   "execution_count": 20,
   "id": "3d4cdc5c",
   "metadata": {},
   "outputs": [],
   "source": [
    "X_scaled = scaler.fit_transform(X)"
   ]
  },
  {
   "cell_type": "code",
   "execution_count": 21,
   "id": "8d996926",
   "metadata": {},
   "outputs": [],
   "source": [
    "pca =PCA(n_components=None)"
   ]
  },
  {
   "cell_type": "code",
   "execution_count": 22,
   "id": "f7642c4c",
   "metadata": {},
   "outputs": [],
   "source": [
    "X_pca = pca.fit_transform(X_scaled)"
   ]
  },
  {
   "cell_type": "code",
   "execution_count": 23,
   "id": "63e1f100",
   "metadata": {},
   "outputs": [],
   "source": [
    "explained_variance_ratio=pca.explained_variance_ratio_\n"
   ]
  },
  {
   "cell_type": "code",
   "execution_count": 24,
   "id": "560519d5",
   "metadata": {},
   "outputs": [
    {
     "data": {
      "text/plain": [
       "(12, 12)"
      ]
     },
     "execution_count": 24,
     "metadata": {},
     "output_type": "execute_result"
    }
   ],
   "source": [
    "\n",
    "pca.components_.shape"
   ]
  },
  {
   "cell_type": "code",
   "execution_count": 25,
   "id": "e7e9ca2a",
   "metadata": {},
   "outputs": [
    {
     "data": {
      "text/plain": [
       "array([2.4102767 , 1.80957004, 1.12556853, 1.04480272, 1.0254787 ,\n",
       "       0.9811879 , 0.95486541, 0.91464461, 0.84097149, 0.7203538 ,\n",
       "       0.15224814, 0.03353028])"
      ]
     },
     "execution_count": 25,
     "metadata": {},
     "output_type": "execute_result"
    }
   ],
   "source": [
    "pca.explained_variance_"
   ]
  },
  {
   "cell_type": "code",
   "execution_count": 26,
   "id": "e1016b44",
   "metadata": {},
   "outputs": [],
   "source": [
    "cumulative_explained_variance=explained_variance_ratio.cumsum()"
   ]
  },
  {
   "cell_type": "code",
   "execution_count": 27,
   "id": "ebc668e7",
   "metadata": {},
   "outputs": [
    {
     "data": {
      "text/plain": [
       "array([0.20063071, 0.15062807, 0.09369199, 0.08696907, 0.08536054,\n",
       "       0.08167379, 0.07948271, 0.07613474, 0.07000221, 0.05996203,\n",
       "       0.01267309, 0.00279105])"
      ]
     },
     "execution_count": 27,
     "metadata": {},
     "output_type": "execute_result"
    }
   ],
   "source": [
    "explained_variance_ratio"
   ]
  },
  {
   "cell_type": "code",
   "execution_count": 28,
   "id": "b1642350",
   "metadata": {},
   "outputs": [
    {
     "data": {
      "image/png": "[encoded data removed]",
      "text/plain": [
       "<Figure size 1000x600 with 1 Axes>"
      ]
     },
     "metadata": {},
     "output_type": "display_data"
    }
   ],
   "source": [
    "plt.figure(figsize=(10, 6))\n",
    "plt.plot(range(1, len(cumulative_explained_variance) + 1), cumulative_explained_variance, marker='o', linestyle='--', color='b')\n",
    "plt.axhline(y=0.8, color='r', linestyle='--', label='80% Explained Variance')\n",
    "plt.xlabel('Number of Principal Components')\n",
    "plt.ylabel('Cumulative Explained Variance')\n",
    "plt.title('Cumulative Explained Variance vs. Number of Components')\n",
    "plt.grid(True)\n",
    "plt.xticks(range(1, len(cumulative_explained_variance) + 1))\n",
    "plt.legend(loc='best')\n",
    "plt.show()"
   ]
  },
  {
   "cell_type": "markdown",
   "id": "5cd9a8ab",
   "metadata": {},
   "source": [
    "### Applying PCA By spacifying components "
   ]
  },
  {
   "cell_type": "code",
   "execution_count": 29,
   "id": "ab794a33",
   "metadata": {},
   "outputs": [],
   "source": [
    "pca2 =PCA(n_components=8)\n"
   ]
  },
  {
   "cell_type": "code",
   "execution_count": 30,
   "id": "ab7e4762",
   "metadata": {},
   "outputs": [],
   "source": [
    "X_pca2 = pca2.fit_transform(X_scaled)"
   ]
  },
  {
   "cell_type": "code",
   "execution_count": 31,
   "id": "2f171189",
   "metadata": {},
   "outputs": [],
   "source": [
    "X_train_pca, X_test_pca, y_train, y_test = train_test_split(X_pca2, y, test_size=0.3, random_state=42)"
   ]
  },
  {
   "cell_type": "markdown",
   "id": "11b17b07",
   "metadata": {},
   "source": [
    "### Training the model on PCA Data Calculating the accurecy Score"
   ]
  },
  {
   "cell_type": "code",
   "execution_count": 32,
   "id": "ba93d2f8",
   "metadata": {},
   "outputs": [],
   "source": [
    "model_1 = LogisticRegression(max_iter=100000,random_state=42)"
   ]
  },
  {
   "cell_type": "code",
   "execution_count": 33,
   "id": "94dd8ce5",
   "metadata": {},
   "outputs": [
    {
     "data": {
      "text/html": [
       "<style>#sk-container-id-1 {color: black;}#sk-container-id-1 pre{padding: 0;}#sk-container-id-1 div.sk-toggleable {background-color: white;}#sk-container-id-1 label.sk-toggleable__label {cursor: pointer;display: block;width: 100%;margin-bottom: 0;padding: 0.3em;box-sizing: border-box;text-align: center;}#sk-container-id-1 label.sk-toggleable__label-arrow:before {content: \"▸\";float: left;margin-right: 0.25em;color: #696969;}#sk-container-id-1 label.sk-toggleable__label-arrow:hover:before {color: black;}#sk-container-id-1 div.sk-estimator:hover label.sk-toggleable__label-arrow:before {color: black;}#sk-container-id-1 div.sk-toggleable__content {max-height: 0;max-width: 0;overflow: hidden;text-align: left;background-color: #f0f8ff;}#sk-container-id-1 div.sk-toggleable__content pre {margin: 0.2em;color: black;border-radius: 0.25em;background-color: #f0f8ff;}#sk-container-id-1 input.sk-toggleable__control:checked~div.sk-toggleable__content {max-height: 200px;max-width: 100%;overflow: auto;}#sk-container-id-1 input.sk-toggleable__control:checked~label.sk-toggleable__label-arrow:before {content: \"▾\";}#sk-container-id-1 div.sk-estimator input.sk-toggleable__control:checked~label.sk-toggleable__label {background-color: #d4ebff;}#sk-container-id-1 div.sk-label input.sk-toggleable__control:checked~label.sk-toggleable__label {background-color: #d4ebff;}#sk-container-id-1 input.sk-hidden--visually {border: 0;clip: rect(1px 1px 1px 1px);clip: rect(1px, 1px, 1px, 1px);height: 1px;margin: -1px;overflow: hidden;padding: 0;position: absolute;width: 1px;}#sk-container-id-1 div.sk-estimator {font-family: monospace;background-color: #f0f8ff;border: 1px dotted black;border-radius: 0.25em;box-sizing: border-box;margin-bottom: 0.5em;}#sk-container-id-1 div.sk-estimator:hover {background-color: #d4ebff;}#sk-container-id-1 div.sk-parallel-item::after {content: \"\";width: 100%;border-bottom: 1px solid gray;flex-grow: 1;}#sk-container-id-1 div.sk-label:hover label.sk-toggleable__label {background-color: #d4ebff;}#sk-container-id-1 div.sk-serial::before {content: \"\";position: absolute;border-left: 1px solid gray;box-sizing: border-box;top: 0;bottom: 0;left: 50%;z-index: 0;}#sk-container-id-1 div.sk-serial {display: flex;flex-direction: column;align-items: center;background-color: white;padding-right: 0.2em;padding-left: 0.2em;position: relative;}#sk-container-id-1 div.sk-item {position: relative;z-index: 1;}#sk-container-id-1 div.sk-parallel {display: flex;align-items: stretch;justify-content: center;background-color: white;position: relative;}#sk-container-id-1 div.sk-item::before, #sk-container-id-1 div.sk-parallel-item::before {content: \"\";position: absolute;border-left: 1px solid gray;box-sizing: border-box;top: 0;bottom: 0;left: 50%;z-index: -1;}#sk-container-id-1 div.sk-parallel-item {display: flex;flex-direction: column;z-index: 1;position: relative;background-color: white;}#sk-container-id-1 div.sk-parallel-item:first-child::after {align-self: flex-end;width: 50%;}#sk-container-id-1 div.sk-parallel-item:last-child::after {align-self: flex-start;width: 50%;}#sk-container-id-1 div.sk-parallel-item:only-child::after {width: 0;}#sk-container-id-1 div.sk-dashed-wrapped {border: 1px dashed gray;margin: 0 0.4em 0.5em 0.4em;box-sizing: border-box;padding-bottom: 0.4em;background-color: white;}#sk-container-id-1 div.sk-label label {font-family: monospace;font-weight: bold;display: inline-block;line-height: 1.2em;}#sk-container-id-1 div.sk-label-container {text-align: center;}#sk-container-id-1 div.sk-container {/* jupyter's `normalize.less` sets `[hidden] { display: none; }` but bootstrap.min.css set `[hidden] { display: none !important; }` so we also need the `!important` here to be able to override the default hidden behavior on the sphinx rendered scikit-learn.org. See: https://github.com/scikit-learn/scikit-learn/issues/21755 */display: inline-block !important;position: relative;}#sk-container-id-1 div.sk-text-repr-fallback {display: none;}</style><div id=\"sk-container-id-1\" class=\"sk-top-container\"><div class=\"sk-text-repr-fallback\"><pre>LogisticRegression(max_iter=100000, random_state=42)</pre><b>In a Jupyter environment, please rerun this cell to show the HTML representation or trust the notebook. <br />On GitHub, the HTML representation is unable to render, please try loading this page with nbviewer.org.</b></div><div class=\"sk-container\" hidden><div class=\"sk-item\"><div class=\"sk-estimator sk-toggleable\"><input class=\"sk-toggleable__control sk-hidden--visually\" id=\"sk-estimator-id-1\" type=\"checkbox\" checked><label for=\"sk-estimator-id-1\" class=\"sk-toggleable__label sk-toggleable__label-arrow\">LogisticRegression</label><div class=\"sk-toggleable__content\"><pre>LogisticRegression(max_iter=100000, random_state=42)</pre></div></div></div></div></div>"
      ],
      "text/plain": [
       "LogisticRegression(max_iter=100000, random_state=42)"
      ]
     },
     "execution_count": 33,
     "metadata": {},
     "output_type": "execute_result"
    }
   ],
   "source": [
    "model_1.fit(X_train_pca, y_train)"
   ]
  },
  {
   "cell_type": "code",
   "execution_count": 34,
   "id": "02b0675e",
   "metadata": {},
   "outputs": [],
   "source": [
    "y_pred_pca = model_1.predict(X_test_pca)\n"
   ]
  },
  {
   "cell_type": "code",
   "execution_count": 35,
   "id": "43a6b2eb",
   "metadata": {},
   "outputs": [],
   "source": [
    "accuracy = accuracy_score(y_test, y_pred_pca)"
   ]
  },
  {
   "cell_type": "code",
   "execution_count": 36,
   "id": "b4927ea5",
   "metadata": {},
   "outputs": [
    {
     "data": {
      "text/plain": [
       "0.5355805243445693"
      ]
     },
     "execution_count": 36,
     "metadata": {},
     "output_type": "execute_result"
    }
   ],
   "source": [
    "accuracy"
   ]
  },
  {
   "cell_type": "markdown",
   "id": "a97b8387",
   "metadata": {},
   "source": [
    "### Training the model on original Data Calculating the accurecy Score"
   ]
  },
  {
   "cell_type": "code",
   "execution_count": 37,
   "id": "7407f31b",
   "metadata": {},
   "outputs": [],
   "source": [
    "X_train, X_test, y_train, y_test = train_test_split(X, y, test_size=0.3, random_state=42)"
   ]
  },
  {
   "cell_type": "code",
   "execution_count": 38,
   "id": "5b78d4e2",
   "metadata": {},
   "outputs": [],
   "source": [
    "model_2 = LogisticRegression(max_iter=100000,random_state=42)"
   ]
  },
  {
   "cell_type": "code",
   "execution_count": 39,
   "id": "59f0e917",
   "metadata": {},
   "outputs": [
    {
     "data": {
      "text/html": [
       "<style>#sk-container-id-2 {color: black;}#sk-container-id-2 pre{padding: 0;}#sk-container-id-2 div.sk-toggleable {background-color: white;}#sk-container-id-2 label.sk-toggleable__label {cursor: pointer;display: block;width: 100%;margin-bottom: 0;padding: 0.3em;box-sizing: border-box;text-align: center;}#sk-container-id-2 label.sk-toggleable__label-arrow:before {content: \"▸\";float: left;margin-right: 0.25em;color: #696969;}#sk-container-id-2 label.sk-toggleable__label-arrow:hover:before {color: black;}#sk-container-id-2 div.sk-estimator:hover label.sk-toggleable__label-arrow:before {color: black;}#sk-container-id-2 div.sk-toggleable__content {max-height: 0;max-width: 0;overflow: hidden;text-align: left;background-color: #f0f8ff;}#sk-container-id-2 div.sk-toggleable__content pre {margin: 0.2em;color: black;border-radius: 0.25em;background-color: #f0f8ff;}#sk-container-id-2 input.sk-toggleable__control:checked~div.sk-toggleable__content {max-height: 200px;max-width: 100%;overflow: auto;}#sk-container-id-2 input.sk-toggleable__control:checked~label.sk-toggleable__label-arrow:before {content: \"▾\";}#sk-container-id-2 div.sk-estimator input.sk-toggleable__control:checked~label.sk-toggleable__label {background-color: #d4ebff;}#sk-container-id-2 div.sk-label input.sk-toggleable__control:checked~label.sk-toggleable__label {background-color: #d4ebff;}#sk-container-id-2 input.sk-hidden--visually {border: 0;clip: rect(1px 1px 1px 1px);clip: rect(1px, 1px, 1px, 1px);height: 1px;margin: -1px;overflow: hidden;padding: 0;position: absolute;width: 1px;}#sk-container-id-2 div.sk-estimator {font-family: monospace;background-color: #f0f8ff;border: 1px dotted black;border-radius: 0.25em;box-sizing: border-box;margin-bottom: 0.5em;}#sk-container-id-2 div.sk-estimator:hover {background-color: #d4ebff;}#sk-container-id-2 div.sk-parallel-item::after {content: \"\";width: 100%;border-bottom: 1px solid gray;flex-grow: 1;}#sk-container-id-2 div.sk-label:hover label.sk-toggleable__label {background-color: #d4ebff;}#sk-container-id-2 div.sk-serial::before {content: \"\";position: absolute;border-left: 1px solid gray;box-sizing: border-box;top: 0;bottom: 0;left: 50%;z-index: 0;}#sk-container-id-2 div.sk-serial {display: flex;flex-direction: column;align-items: center;background-color: white;padding-right: 0.2em;padding-left: 0.2em;position: relative;}#sk-container-id-2 div.sk-item {position: relative;z-index: 1;}#sk-container-id-2 div.sk-parallel {display: flex;align-items: stretch;justify-content: center;background-color: white;position: relative;}#sk-container-id-2 div.sk-item::before, #sk-container-id-2 div.sk-parallel-item::before {content: \"\";position: absolute;border-left: 1px solid gray;box-sizing: border-box;top: 0;bottom: 0;left: 50%;z-index: -1;}#sk-container-id-2 div.sk-parallel-item {display: flex;flex-direction: column;z-index: 1;position: relative;background-color: white;}#sk-container-id-2 div.sk-parallel-item:first-child::after {align-self: flex-end;width: 50%;}#sk-container-id-2 div.sk-parallel-item:last-child::after {align-self: flex-start;width: 50%;}#sk-container-id-2 div.sk-parallel-item:only-child::after {width: 0;}#sk-container-id-2 div.sk-dashed-wrapped {border: 1px dashed gray;margin: 0 0.4em 0.5em 0.4em;box-sizing: border-box;padding-bottom: 0.4em;background-color: white;}#sk-container-id-2 div.sk-label label {font-family: monospace;font-weight: bold;display: inline-block;line-height: 1.2em;}#sk-container-id-2 div.sk-label-container {text-align: center;}#sk-container-id-2 div.sk-container {/* jupyter's `normalize.less` sets `[hidden] { display: none; }` but bootstrap.min.css set `[hidden] { display: none !important; }` so we also need the `!important` here to be able to override the default hidden behavior on the sphinx rendered scikit-learn.org. See: https://github.com/scikit-learn/scikit-learn/issues/21755 */display: inline-block !important;position: relative;}#sk-container-id-2 div.sk-text-repr-fallback {display: none;}</style><div id=\"sk-container-id-2\" class=\"sk-top-container\"><div class=\"sk-text-repr-fallback\"><pre>LogisticRegression(max_iter=100000, random_state=42)</pre><b>In a Jupyter environment, please rerun this cell to show the HTML representation or trust the notebook. <br />On GitHub, the HTML representation is unable to render, please try loading this page with nbviewer.org.</b></div><div class=\"sk-container\" hidden><div class=\"sk-item\"><div class=\"sk-estimator sk-toggleable\"><input class=\"sk-toggleable__control sk-hidden--visually\" id=\"sk-estimator-id-2\" type=\"checkbox\" checked><label for=\"sk-estimator-id-2\" class=\"sk-toggleable__label sk-toggleable__label-arrow\">LogisticRegression</label><div class=\"sk-toggleable__content\"><pre>LogisticRegression(max_iter=100000, random_state=42)</pre></div></div></div></div></div>"
      ],
      "text/plain": [
       "LogisticRegression(max_iter=100000, random_state=42)"
      ]
     },
     "execution_count": 39,
     "metadata": {},
     "output_type": "execute_result"
    }
   ],
   "source": [
    "model_2.fit(X_train, y_train)"
   ]
  },
  {
   "cell_type": "code",
   "execution_count": 40,
   "id": "a2c81003",
   "metadata": {},
   "outputs": [],
   "source": [
    "y_pred_original = model_2.predict(X_test)"
   ]
  },
  {
   "cell_type": "code",
   "execution_count": 41,
   "id": "716ddde1",
   "metadata": {},
   "outputs": [],
   "source": [
    " accuracy2= accuracy_score(y_test, y_pred_original)"
   ]
  },
  {
   "cell_type": "code",
   "execution_count": 42,
   "id": "1bc2125d",
   "metadata": {},
   "outputs": [
    {
     "data": {
      "text/plain": [
       "0.5280898876404494"
      ]
     },
     "execution_count": 42,
     "metadata": {},
     "output_type": "execute_result"
    }
   ],
   "source": [
    " accuracy2"
   ]
  },
  {
   "cell_type": "markdown",
   "id": "842fad31",
   "metadata": {},
   "source": [
    "### Assigning Genre to the Missing value"
   ]
  },
  {
   "cell_type": "code",
   "execution_count": 43,
   "id": "d807fbce",
   "metadata": {},
   "outputs": [],
   "source": [
    "missing_genre_rows = music[music['Genre'].isnull()]\n"
   ]
  },
  {
   "cell_type": "code",
   "execution_count": 44,
   "id": "3fc3ed43",
   "metadata": {},
   "outputs": [
    {
     "data": {
      "text/html": [
       "<div>\n",
       "<style scoped>\n",
       "    .dataframe tbody tr th:only-of-type {\n",
       "        vertical-align: middle;\n",
       "    }\n",
       "\n",
       "    .dataframe tbody tr th {\n",
       "        vertical-align: top;\n",
       "    }\n",
       "\n",
       "    .dataframe thead th {\n",
       "        text-align: right;\n",
       "    }\n",
       "</style>\n",
       "<table border=\"1\" class=\"dataframe\">\n",
       "  <thead>\n",
       "    <tr style=\"text-align: right;\">\n",
       "      <th></th>\n",
       "      <th>Tempo</th>\n",
       "      <th>Dynamics Range</th>\n",
       "      <th>Vocal Presence</th>\n",
       "      <th>Percussion Strength</th>\n",
       "      <th>String Instrument Detection</th>\n",
       "      <th>Electronic Element Presence</th>\n",
       "      <th>Rhythm Complexity</th>\n",
       "      <th>Drums Influence</th>\n",
       "      <th>Distorted Guitar</th>\n",
       "      <th>Metal Frequencies</th>\n",
       "      <th>Ambient Sound Influence</th>\n",
       "      <th>Instrumental Overlaps</th>\n",
       "      <th>Genre</th>\n",
       "    </tr>\n",
       "  </thead>\n",
       "  <tbody>\n",
       "    <tr>\n",
       "      <th>13</th>\n",
       "      <td>104.389822</td>\n",
       "      <td>65.826509</td>\n",
       "      <td>45.855410</td>\n",
       "      <td>55.655533</td>\n",
       "      <td>76.058845</td>\n",
       "      <td>55.625315</td>\n",
       "      <td>25.312585</td>\n",
       "      <td>59.202818</td>\n",
       "      <td>0.920308</td>\n",
       "      <td>0.000000</td>\n",
       "      <td>94.308889</td>\n",
       "      <td>27.441046</td>\n",
       "      <td>NaN</td>\n",
       "    </tr>\n",
       "    <tr>\n",
       "      <th>18</th>\n",
       "      <td>101.367152</td>\n",
       "      <td>47.843370</td>\n",
       "      <td>93.230347</td>\n",
       "      <td>67.101777</td>\n",
       "      <td>20.932163</td>\n",
       "      <td>50.772288</td>\n",
       "      <td>30.348312</td>\n",
       "      <td>62.950165</td>\n",
       "      <td>64.462755</td>\n",
       "      <td>68.971944</td>\n",
       "      <td>21.690071</td>\n",
       "      <td>94.717315</td>\n",
       "      <td>NaN</td>\n",
       "    </tr>\n",
       "    <tr>\n",
       "      <th>22</th>\n",
       "      <td>85.130539</td>\n",
       "      <td>55.707108</td>\n",
       "      <td>81.149615</td>\n",
       "      <td>21.473425</td>\n",
       "      <td>14.959208</td>\n",
       "      <td>61.017283</td>\n",
       "      <td>64.000152</td>\n",
       "      <td>43.332846</td>\n",
       "      <td>70.455879</td>\n",
       "      <td>79.053598</td>\n",
       "      <td>20.420619</td>\n",
       "      <td>99.499498</td>\n",
       "      <td>NaN</td>\n",
       "    </tr>\n",
       "    <tr>\n",
       "      <th>31</th>\n",
       "      <td>121.100952</td>\n",
       "      <td>71.769727</td>\n",
       "      <td>49.609529</td>\n",
       "      <td>82.539647</td>\n",
       "      <td>47.670106</td>\n",
       "      <td>119.460607</td>\n",
       "      <td>68.812707</td>\n",
       "      <td>83.727876</td>\n",
       "      <td>95.307620</td>\n",
       "      <td>95.779062</td>\n",
       "      <td>2.883916</td>\n",
       "      <td>19.230684</td>\n",
       "      <td>NaN</td>\n",
       "    </tr>\n",
       "    <tr>\n",
       "      <th>42</th>\n",
       "      <td>93.546825</td>\n",
       "      <td>44.563761</td>\n",
       "      <td>56.587554</td>\n",
       "      <td>99.546134</td>\n",
       "      <td>109.735122</td>\n",
       "      <td>30.128106</td>\n",
       "      <td>48.392807</td>\n",
       "      <td>81.888793</td>\n",
       "      <td>97.200948</td>\n",
       "      <td>100.000000</td>\n",
       "      <td>16.380240</td>\n",
       "      <td>55.483399</td>\n",
       "      <td>NaN</td>\n",
       "    </tr>\n",
       "    <tr>\n",
       "      <th>...</th>\n",
       "      <td>...</td>\n",
       "      <td>...</td>\n",
       "      <td>...</td>\n",
       "      <td>...</td>\n",
       "      <td>...</td>\n",
       "      <td>...</td>\n",
       "      <td>...</td>\n",
       "      <td>...</td>\n",
       "      <td>...</td>\n",
       "      <td>...</td>\n",
       "      <td>...</td>\n",
       "      <td>...</td>\n",
       "      <td>...</td>\n",
       "    </tr>\n",
       "    <tr>\n",
       "      <th>991</th>\n",
       "      <td>130.719110</td>\n",
       "      <td>65.990957</td>\n",
       "      <td>21.775950</td>\n",
       "      <td>91.817048</td>\n",
       "      <td>34.029452</td>\n",
       "      <td>105.525736</td>\n",
       "      <td>28.552899</td>\n",
       "      <td>99.587397</td>\n",
       "      <td>1.414556</td>\n",
       "      <td>0.000000</td>\n",
       "      <td>59.447447</td>\n",
       "      <td>74.901837</td>\n",
       "      <td>NaN</td>\n",
       "    </tr>\n",
       "    <tr>\n",
       "      <th>992</th>\n",
       "      <td>117.892313</td>\n",
       "      <td>35.001524</td>\n",
       "      <td>76.506358</td>\n",
       "      <td>77.972570</td>\n",
       "      <td>80.765657</td>\n",
       "      <td>13.759213</td>\n",
       "      <td>59.985923</td>\n",
       "      <td>80.108786</td>\n",
       "      <td>93.831262</td>\n",
       "      <td>100.000000</td>\n",
       "      <td>15.851851</td>\n",
       "      <td>47.984445</td>\n",
       "      <td>NaN</td>\n",
       "    </tr>\n",
       "    <tr>\n",
       "      <th>993</th>\n",
       "      <td>104.315096</td>\n",
       "      <td>26.173723</td>\n",
       "      <td>3.334345</td>\n",
       "      <td>42.132602</td>\n",
       "      <td>38.434513</td>\n",
       "      <td>66.522798</td>\n",
       "      <td>62.051560</td>\n",
       "      <td>79.475348</td>\n",
       "      <td>61.390214</td>\n",
       "      <td>52.925363</td>\n",
       "      <td>50.383816</td>\n",
       "      <td>52.630256</td>\n",
       "      <td>NaN</td>\n",
       "    </tr>\n",
       "    <tr>\n",
       "      <th>994</th>\n",
       "      <td>121.863373</td>\n",
       "      <td>50.872678</td>\n",
       "      <td>70.100162</td>\n",
       "      <td>106.212013</td>\n",
       "      <td>66.573813</td>\n",
       "      <td>89.927526</td>\n",
       "      <td>3.009635</td>\n",
       "      <td>79.634816</td>\n",
       "      <td>15.398297</td>\n",
       "      <td>31.235519</td>\n",
       "      <td>11.997421</td>\n",
       "      <td>57.281283</td>\n",
       "      <td>NaN</td>\n",
       "    </tr>\n",
       "    <tr>\n",
       "      <th>995</th>\n",
       "      <td>66.578839</td>\n",
       "      <td>54.533872</td>\n",
       "      <td>99.782246</td>\n",
       "      <td>95.633310</td>\n",
       "      <td>91.414514</td>\n",
       "      <td>19.396142</td>\n",
       "      <td>36.280860</td>\n",
       "      <td>78.298955</td>\n",
       "      <td>4.890606</td>\n",
       "      <td>4.638077</td>\n",
       "      <td>75.479656</td>\n",
       "      <td>95.990077</td>\n",
       "      <td>NaN</td>\n",
       "    </tr>\n",
       "  </tbody>\n",
       "</table>\n",
       "<p>110 rows × 13 columns</p>\n",
       "</div>"
      ],
      "text/plain": [
       "          Tempo  Dynamics Range  Vocal Presence  Percussion Strength  \\\n",
       "13   104.389822       65.826509       45.855410            55.655533   \n",
       "18   101.367152       47.843370       93.230347            67.101777   \n",
       "22    85.130539       55.707108       81.149615            21.473425   \n",
       "31   121.100952       71.769727       49.609529            82.539647   \n",
       "42    93.546825       44.563761       56.587554            99.546134   \n",
       "..          ...             ...             ...                  ...   \n",
       "991  130.719110       65.990957       21.775950            91.817048   \n",
       "992  117.892313       35.001524       76.506358            77.972570   \n",
       "993  104.315096       26.173723        3.334345            42.132602   \n",
       "994  121.863373       50.872678       70.100162           106.212013   \n",
       "995   66.578839       54.533872       99.782246            95.633310   \n",
       "\n",
       "     String Instrument Detection  Electronic Element Presence  \\\n",
       "13                     76.058845                    55.625315   \n",
       "18                     20.932163                    50.772288   \n",
       "22                     14.959208                    61.017283   \n",
       "31                     47.670106                   119.460607   \n",
       "42                    109.735122                    30.128106   \n",
       "..                           ...                          ...   \n",
       "991                    34.029452                   105.525736   \n",
       "992                    80.765657                    13.759213   \n",
       "993                    38.434513                    66.522798   \n",
       "994                    66.573813                    89.927526   \n",
       "995                    91.414514                    19.396142   \n",
       "\n",
       "     Rhythm Complexity  Drums Influence  Distorted Guitar  Metal Frequencies  \\\n",
       "13           25.312585        59.202818          0.920308           0.000000   \n",
       "18           30.348312        62.950165         64.462755          68.971944   \n",
       "22           64.000152        43.332846         70.455879          79.053598   \n",
       "31           68.812707        83.727876         95.307620          95.779062   \n",
       "42           48.392807        81.888793         97.200948         100.000000   \n",
       "..                 ...              ...               ...                ...   \n",
       "991          28.552899        99.587397          1.414556           0.000000   \n",
       "992          59.985923        80.108786         93.831262         100.000000   \n",
       "993          62.051560        79.475348         61.390214          52.925363   \n",
       "994           3.009635        79.634816         15.398297          31.235519   \n",
       "995          36.280860        78.298955          4.890606           4.638077   \n",
       "\n",
       "     Ambient Sound Influence  Instrumental Overlaps Genre  \n",
       "13                 94.308889              27.441046   NaN  \n",
       "18                 21.690071              94.717315   NaN  \n",
       "22                 20.420619              99.499498   NaN  \n",
       "31                  2.883916              19.230684   NaN  \n",
       "42                 16.380240              55.483399   NaN  \n",
       "..                       ...                    ...   ...  \n",
       "991                59.447447              74.901837   NaN  \n",
       "992                15.851851              47.984445   NaN  \n",
       "993                50.383816              52.630256   NaN  \n",
       "994                11.997421              57.281283   NaN  \n",
       "995                75.479656              95.990077   NaN  \n",
       "\n",
       "[110 rows x 13 columns]"
      ]
     },
     "execution_count": 44,
     "metadata": {},
     "output_type": "execute_result"
    }
   ],
   "source": [
    "missing_genre_rows"
   ]
  },
  {
   "cell_type": "code",
   "execution_count": 45,
   "id": "79a1bb9e",
   "metadata": {},
   "outputs": [],
   "source": [
    "missing_genre_features = missing_genre_rows.drop(columns=['Genre'])\n"
   ]
  },
  {
   "cell_type": "code",
   "execution_count": 46,
   "id": "36efe877",
   "metadata": {},
   "outputs": [
    {
     "data": {
      "text/html": [
       "<div>\n",
       "<style scoped>\n",
       "    .dataframe tbody tr th:only-of-type {\n",
       "        vertical-align: middle;\n",
       "    }\n",
       "\n",
       "    .dataframe tbody tr th {\n",
       "        vertical-align: top;\n",
       "    }\n",
       "\n",
       "    .dataframe thead th {\n",
       "        text-align: right;\n",
       "    }\n",
       "</style>\n",
       "<table border=\"1\" class=\"dataframe\">\n",
       "  <thead>\n",
       "    <tr style=\"text-align: right;\">\n",
       "      <th></th>\n",
       "      <th>Tempo</th>\n",
       "      <th>Dynamics Range</th>\n",
       "      <th>Vocal Presence</th>\n",
       "      <th>Percussion Strength</th>\n",
       "      <th>String Instrument Detection</th>\n",
       "      <th>Electronic Element Presence</th>\n",
       "      <th>Rhythm Complexity</th>\n",
       "      <th>Drums Influence</th>\n",
       "      <th>Distorted Guitar</th>\n",
       "      <th>Metal Frequencies</th>\n",
       "      <th>Ambient Sound Influence</th>\n",
       "      <th>Instrumental Overlaps</th>\n",
       "    </tr>\n",
       "  </thead>\n",
       "  <tbody>\n",
       "    <tr>\n",
       "      <th>13</th>\n",
       "      <td>104.389822</td>\n",
       "      <td>65.826509</td>\n",
       "      <td>45.855410</td>\n",
       "      <td>55.655533</td>\n",
       "      <td>76.058845</td>\n",
       "      <td>55.625315</td>\n",
       "      <td>25.312585</td>\n",
       "      <td>59.202818</td>\n",
       "      <td>0.920308</td>\n",
       "      <td>0.000000</td>\n",
       "      <td>94.308889</td>\n",
       "      <td>27.441046</td>\n",
       "    </tr>\n",
       "    <tr>\n",
       "      <th>18</th>\n",
       "      <td>101.367152</td>\n",
       "      <td>47.843370</td>\n",
       "      <td>93.230347</td>\n",
       "      <td>67.101777</td>\n",
       "      <td>20.932163</td>\n",
       "      <td>50.772288</td>\n",
       "      <td>30.348312</td>\n",
       "      <td>62.950165</td>\n",
       "      <td>64.462755</td>\n",
       "      <td>68.971944</td>\n",
       "      <td>21.690071</td>\n",
       "      <td>94.717315</td>\n",
       "    </tr>\n",
       "    <tr>\n",
       "      <th>22</th>\n",
       "      <td>85.130539</td>\n",
       "      <td>55.707108</td>\n",
       "      <td>81.149615</td>\n",
       "      <td>21.473425</td>\n",
       "      <td>14.959208</td>\n",
       "      <td>61.017283</td>\n",
       "      <td>64.000152</td>\n",
       "      <td>43.332846</td>\n",
       "      <td>70.455879</td>\n",
       "      <td>79.053598</td>\n",
       "      <td>20.420619</td>\n",
       "      <td>99.499498</td>\n",
       "    </tr>\n",
       "    <tr>\n",
       "      <th>31</th>\n",
       "      <td>121.100952</td>\n",
       "      <td>71.769727</td>\n",
       "      <td>49.609529</td>\n",
       "      <td>82.539647</td>\n",
       "      <td>47.670106</td>\n",
       "      <td>119.460607</td>\n",
       "      <td>68.812707</td>\n",
       "      <td>83.727876</td>\n",
       "      <td>95.307620</td>\n",
       "      <td>95.779062</td>\n",
       "      <td>2.883916</td>\n",
       "      <td>19.230684</td>\n",
       "    </tr>\n",
       "    <tr>\n",
       "      <th>42</th>\n",
       "      <td>93.546825</td>\n",
       "      <td>44.563761</td>\n",
       "      <td>56.587554</td>\n",
       "      <td>99.546134</td>\n",
       "      <td>109.735122</td>\n",
       "      <td>30.128106</td>\n",
       "      <td>48.392807</td>\n",
       "      <td>81.888793</td>\n",
       "      <td>97.200948</td>\n",
       "      <td>100.000000</td>\n",
       "      <td>16.380240</td>\n",
       "      <td>55.483399</td>\n",
       "    </tr>\n",
       "    <tr>\n",
       "      <th>...</th>\n",
       "      <td>...</td>\n",
       "      <td>...</td>\n",
       "      <td>...</td>\n",
       "      <td>...</td>\n",
       "      <td>...</td>\n",
       "      <td>...</td>\n",
       "      <td>...</td>\n",
       "      <td>...</td>\n",
       "      <td>...</td>\n",
       "      <td>...</td>\n",
       "      <td>...</td>\n",
       "      <td>...</td>\n",
       "    </tr>\n",
       "    <tr>\n",
       "      <th>991</th>\n",
       "      <td>130.719110</td>\n",
       "      <td>65.990957</td>\n",
       "      <td>21.775950</td>\n",
       "      <td>91.817048</td>\n",
       "      <td>34.029452</td>\n",
       "      <td>105.525736</td>\n",
       "      <td>28.552899</td>\n",
       "      <td>99.587397</td>\n",
       "      <td>1.414556</td>\n",
       "      <td>0.000000</td>\n",
       "      <td>59.447447</td>\n",
       "      <td>74.901837</td>\n",
       "    </tr>\n",
       "    <tr>\n",
       "      <th>992</th>\n",
       "      <td>117.892313</td>\n",
       "      <td>35.001524</td>\n",
       "      <td>76.506358</td>\n",
       "      <td>77.972570</td>\n",
       "      <td>80.765657</td>\n",
       "      <td>13.759213</td>\n",
       "      <td>59.985923</td>\n",
       "      <td>80.108786</td>\n",
       "      <td>93.831262</td>\n",
       "      <td>100.000000</td>\n",
       "      <td>15.851851</td>\n",
       "      <td>47.984445</td>\n",
       "    </tr>\n",
       "    <tr>\n",
       "      <th>993</th>\n",
       "      <td>104.315096</td>\n",
       "      <td>26.173723</td>\n",
       "      <td>3.334345</td>\n",
       "      <td>42.132602</td>\n",
       "      <td>38.434513</td>\n",
       "      <td>66.522798</td>\n",
       "      <td>62.051560</td>\n",
       "      <td>79.475348</td>\n",
       "      <td>61.390214</td>\n",
       "      <td>52.925363</td>\n",
       "      <td>50.383816</td>\n",
       "      <td>52.630256</td>\n",
       "    </tr>\n",
       "    <tr>\n",
       "      <th>994</th>\n",
       "      <td>121.863373</td>\n",
       "      <td>50.872678</td>\n",
       "      <td>70.100162</td>\n",
       "      <td>106.212013</td>\n",
       "      <td>66.573813</td>\n",
       "      <td>89.927526</td>\n",
       "      <td>3.009635</td>\n",
       "      <td>79.634816</td>\n",
       "      <td>15.398297</td>\n",
       "      <td>31.235519</td>\n",
       "      <td>11.997421</td>\n",
       "      <td>57.281283</td>\n",
       "    </tr>\n",
       "    <tr>\n",
       "      <th>995</th>\n",
       "      <td>66.578839</td>\n",
       "      <td>54.533872</td>\n",
       "      <td>99.782246</td>\n",
       "      <td>95.633310</td>\n",
       "      <td>91.414514</td>\n",
       "      <td>19.396142</td>\n",
       "      <td>36.280860</td>\n",
       "      <td>78.298955</td>\n",
       "      <td>4.890606</td>\n",
       "      <td>4.638077</td>\n",
       "      <td>75.479656</td>\n",
       "      <td>95.990077</td>\n",
       "    </tr>\n",
       "  </tbody>\n",
       "</table>\n",
       "<p>110 rows × 12 columns</p>\n",
       "</div>"
      ],
      "text/plain": [
       "          Tempo  Dynamics Range  Vocal Presence  Percussion Strength  \\\n",
       "13   104.389822       65.826509       45.855410            55.655533   \n",
       "18   101.367152       47.843370       93.230347            67.101777   \n",
       "22    85.130539       55.707108       81.149615            21.473425   \n",
       "31   121.100952       71.769727       49.609529            82.539647   \n",
       "42    93.546825       44.563761       56.587554            99.546134   \n",
       "..          ...             ...             ...                  ...   \n",
       "991  130.719110       65.990957       21.775950            91.817048   \n",
       "992  117.892313       35.001524       76.506358            77.972570   \n",
       "993  104.315096       26.173723        3.334345            42.132602   \n",
       "994  121.863373       50.872678       70.100162           106.212013   \n",
       "995   66.578839       54.533872       99.782246            95.633310   \n",
       "\n",
       "     String Instrument Detection  Electronic Element Presence  \\\n",
       "13                     76.058845                    55.625315   \n",
       "18                     20.932163                    50.772288   \n",
       "22                     14.959208                    61.017283   \n",
       "31                     47.670106                   119.460607   \n",
       "42                    109.735122                    30.128106   \n",
       "..                           ...                          ...   \n",
       "991                    34.029452                   105.525736   \n",
       "992                    80.765657                    13.759213   \n",
       "993                    38.434513                    66.522798   \n",
       "994                    66.573813                    89.927526   \n",
       "995                    91.414514                    19.396142   \n",
       "\n",
       "     Rhythm Complexity  Drums Influence  Distorted Guitar  Metal Frequencies  \\\n",
       "13           25.312585        59.202818          0.920308           0.000000   \n",
       "18           30.348312        62.950165         64.462755          68.971944   \n",
       "22           64.000152        43.332846         70.455879          79.053598   \n",
       "31           68.812707        83.727876         95.307620          95.779062   \n",
       "42           48.392807        81.888793         97.200948         100.000000   \n",
       "..                 ...              ...               ...                ...   \n",
       "991          28.552899        99.587397          1.414556           0.000000   \n",
       "992          59.985923        80.108786         93.831262         100.000000   \n",
       "993          62.051560        79.475348         61.390214          52.925363   \n",
       "994           3.009635        79.634816         15.398297          31.235519   \n",
       "995          36.280860        78.298955          4.890606           4.638077   \n",
       "\n",
       "     Ambient Sound Influence  Instrumental Overlaps  \n",
       "13                 94.308889              27.441046  \n",
       "18                 21.690071              94.717315  \n",
       "22                 20.420619              99.499498  \n",
       "31                  2.883916              19.230684  \n",
       "42                 16.380240              55.483399  \n",
       "..                       ...                    ...  \n",
       "991                59.447447              74.901837  \n",
       "992                15.851851              47.984445  \n",
       "993                50.383816              52.630256  \n",
       "994                11.997421              57.281283  \n",
       "995                75.479656              95.990077  \n",
       "\n",
       "[110 rows x 12 columns]"
      ]
     },
     "execution_count": 46,
     "metadata": {},
     "output_type": "execute_result"
    }
   ],
   "source": [
    "missing_genre_features"
   ]
  },
  {
   "cell_type": "code",
   "execution_count": 47,
   "id": "9e201d62",
   "metadata": {},
   "outputs": [],
   "source": [
    "missing_genre_scaled = scaler.fit_transform(missing_genre_features)"
   ]
  },
  {
   "cell_type": "code",
   "execution_count": 48,
   "id": "a55fe201",
   "metadata": {},
   "outputs": [],
   "source": [
    "missing_genre_pca = pca2.fit_transform(missing_genre_scaled)"
   ]
  },
  {
   "cell_type": "code",
   "execution_count": 49,
   "id": "45e9fa7e",
   "metadata": {},
   "outputs": [],
   "source": [
    "predicted_genres = model_1.predict(missing_genre_pca)"
   ]
  },
  {
   "cell_type": "code",
   "execution_count": 50,
   "id": "d6074407",
   "metadata": {},
   "outputs": [
    {
     "data": {
      "text/plain": [
       "array([0, 2, 1, 4, 4, 1, 1, 4, 4, 1, 4, 2, 4, 4, 1, 0, 4, 1, 1, 3, 3, 3,\n",
       "       3, 4, 2, 4, 3, 1, 0, 4, 0, 1, 3, 4, 4, 2, 3, 0, 1, 1, 1, 3, 3, 4,\n",
       "       4, 1, 3, 0, 0, 1, 1, 4, 3, 2, 4, 1, 1, 4, 3, 4, 1, 0, 0, 3, 2, 4,\n",
       "       2, 0, 1, 4, 1, 2, 4, 4, 0, 2, 4, 2, 2, 0, 4, 0, 4, 0, 0, 2, 0, 1,\n",
       "       3, 3, 0, 4, 4, 3, 3, 4, 3, 2, 0, 4, 0, 1, 2, 4, 4, 3, 4, 2, 3, 0])"
      ]
     },
     "execution_count": 50,
     "metadata": {},
     "output_type": "execute_result"
    }
   ],
   "source": [
    "predicted_genres\n"
   ]
  },
  {
   "cell_type": "code",
   "execution_count": 51,
   "id": "c6e6a62d",
   "metadata": {},
   "outputs": [],
   "source": [
    "\n",
    "decoded_genres = label_encoder.inverse_transform(predicted_genres)"
   ]
  },
  {
   "cell_type": "code",
   "execution_count": 52,
   "id": "d97d1551",
   "metadata": {},
   "outputs": [
    {
     "data": {
      "text/plain": [
       "array(['Classical', 'Hip-hop', 'Country', 'Rock', 'Rock', 'Country',\n",
       "       'Country', 'Rock', 'Rock', 'Country', 'Rock', 'Hip-hop', 'Rock',\n",
       "       'Rock', 'Country', 'Classical', 'Rock', 'Country', 'Country',\n",
       "       'Jazz', 'Jazz', 'Jazz', 'Jazz', 'Rock', 'Hip-hop', 'Rock', 'Jazz',\n",
       "       'Country', 'Classical', 'Rock', 'Classical', 'Country', 'Jazz',\n",
       "       'Rock', 'Rock', 'Hip-hop', 'Jazz', 'Classical', 'Country',\n",
       "       'Country', 'Country', 'Jazz', 'Jazz', 'Rock', 'Rock', 'Country',\n",
       "       'Jazz', 'Classical', 'Classical', 'Country', 'Country', 'Rock',\n",
       "       'Jazz', 'Hip-hop', 'Rock', 'Country', 'Country', 'Rock', 'Jazz',\n",
       "       'Rock', 'Country', 'Classical', 'Classical', 'Jazz', 'Hip-hop',\n",
       "       'Rock', 'Hip-hop', 'Classical', 'Country', 'Rock', 'Country',\n",
       "       'Hip-hop', 'Rock', 'Rock', 'Classical', 'Hip-hop', 'Rock',\n",
       "       'Hip-hop', 'Hip-hop', 'Classical', 'Rock', 'Classical', 'Rock',\n",
       "       'Classical', 'Classical', 'Hip-hop', 'Classical', 'Country',\n",
       "       'Jazz', 'Jazz', 'Classical', 'Rock', 'Rock', 'Jazz', 'Jazz',\n",
       "       'Rock', 'Jazz', 'Hip-hop', 'Classical', 'Rock', 'Classical',\n",
       "       'Country', 'Hip-hop', 'Rock', 'Rock', 'Jazz', 'Rock', 'Hip-hop',\n",
       "       'Jazz', 'Classical'], dtype=object)"
      ]
     },
     "execution_count": 52,
     "metadata": {},
     "output_type": "execute_result"
    }
   ],
   "source": [
    "decoded_genres"
   ]
  },
  {
   "cell_type": "code",
   "execution_count": 53,
   "id": "b225c57a",
   "metadata": {},
   "outputs": [],
   "source": [
    "music.loc[music['Genre'].isnull(), 'Genre'] = decoded_genres"
   ]
  },
  {
   "cell_type": "code",
   "execution_count": 54,
   "id": "8df41445",
   "metadata": {},
   "outputs": [
    {
     "data": {
      "text/plain": [
       "0"
      ]
     },
     "execution_count": 54,
     "metadata": {},
     "output_type": "execute_result"
    }
   ],
   "source": [
    "music['Genre'].isnull().sum()"
   ]
  },
  {
   "cell_type": "code",
   "execution_count": 55,
   "id": "871ca10c",
   "metadata": {},
   "outputs": [],
   "source": [
    "report_original = classification_report(y_test, y_pred_original, target_names=label_encoder.classes_, output_dict=True)"
   ]
  },
  {
   "cell_type": "code",
   "execution_count": 56,
   "id": "81f70db5",
   "metadata": {},
   "outputs": [
    {
     "data": {
      "text/plain": [
       "{'Classical': {'precision': 0.8596491228070176,\n",
       "  'recall': 0.9607843137254902,\n",
       "  'f1-score': 0.9074074074074074,\n",
       "  'support': 51.0},\n",
       " 'Country': {'precision': 0.34146341463414637,\n",
       "  'recall': 0.2692307692307692,\n",
       "  'f1-score': 0.3010752688172043,\n",
       "  'support': 52.0},\n",
       " 'Hip-hop': {'precision': 0.4489795918367347,\n",
       "  'recall': 0.4583333333333333,\n",
       "  'f1-score': 0.45360824742268036,\n",
       "  'support': 48.0},\n",
       " 'Jazz': {'precision': 0.42857142857142855,\n",
       "  'recall': 0.3870967741935484,\n",
       "  'f1-score': 0.4067796610169491,\n",
       "  'support': 62.0},\n",
       " 'Rock': {'precision': 0.5,\n",
       "  'recall': 0.5925925925925926,\n",
       "  'f1-score': 0.5423728813559322,\n",
       "  'support': 54.0},\n",
       " 'accuracy': 0.5280898876404494,\n",
       " 'macro avg': {'precision': 0.5157327115698654,\n",
       "  'recall': 0.5336075566151467,\n",
       "  'f1-score': 0.5222486932040347,\n",
       "  'support': 267.0},\n",
       " 'weighted avg': {'precision': 0.5120623663060874,\n",
       "  'recall': 0.5280898876404494,\n",
       "  'f1-score': 0.5176605326173493,\n",
       "  'support': 267.0}}"
      ]
     },
     "execution_count": 56,
     "metadata": {},
     "output_type": "execute_result"
    }
   ],
   "source": [
    "report_original"
   ]
  },
  {
   "cell_type": "code",
   "execution_count": 57,
   "id": "700c77de",
   "metadata": {},
   "outputs": [],
   "source": [
    "precision_original = report_original['Hip-hop']['precision']"
   ]
  },
  {
   "cell_type": "code",
   "execution_count": 58,
   "id": "e5a15175",
   "metadata": {},
   "outputs": [
    {
     "data": {
      "text/plain": [
       "0.4489795918367347"
      ]
     },
     "execution_count": 58,
     "metadata": {},
     "output_type": "execute_result"
    }
   ],
   "source": [
    "precision_original"
   ]
  },
  {
   "cell_type": "code",
   "execution_count": 59,
   "id": "8d614f3c",
   "metadata": {},
   "outputs": [],
   "source": [
    "report_pca = classification_report(y_test, y_pred_pca, target_names=label_encoder.classes_, output_dict=True)\n"
   ]
  },
  {
   "cell_type": "code",
   "execution_count": 60,
   "id": "a8b04feb",
   "metadata": {},
   "outputs": [],
   "source": [
    "precision_pca = report_pca['Hip-hop']['precision']"
   ]
  },
  {
   "cell_type": "code",
   "execution_count": 61,
   "id": "b30b3d75",
   "metadata": {},
   "outputs": [
    {
     "data": {
      "text/plain": [
       "0.4883720930232558"
      ]
     },
     "execution_count": 61,
     "metadata": {},
     "output_type": "execute_result"
    }
   ],
   "source": [
    "precision_pca"
   ]
  },
  {
   "cell_type": "code",
   "execution_count": 62,
   "id": "628ace1c",
   "metadata": {},
   "outputs": [],
   "source": [
    "precision_difference = precision_pca - precision_original"
   ]
  },
  {
   "cell_type": "code",
   "execution_count": 63,
   "id": "514edbaa",
   "metadata": {},
   "outputs": [
    {
     "data": {
      "text/plain": [
       "0.0393925011865211"
      ]
     },
     "execution_count": 63,
     "metadata": {},
     "output_type": "execute_result"
    }
   ],
   "source": [
    "precision_difference"
   ]
  },
  {
   "cell_type": "markdown",
   "id": "d480f8c7",
   "metadata": {},
   "source": [
    "### Predicting Music Genre from Track number"
   ]
  },
  {
   "cell_type": "code",
   "execution_count": 64,
   "id": "1d4cb8cf",
   "metadata": {},
   "outputs": [],
   "source": [
    "track_992_features = music.loc[992, 'Genre']"
   ]
  },
  {
   "cell_type": "code",
   "execution_count": 65,
   "id": "c3bc60fa",
   "metadata": {},
   "outputs": [
    {
     "data": {
      "text/plain": [
       "'Rock'"
      ]
     },
     "execution_count": 65,
     "metadata": {},
     "output_type": "execute_result"
    }
   ],
   "source": [
    "track_992_features"
   ]
  },
  {
   "cell_type": "code",
   "execution_count": null,
   "id": "89655822",
   "metadata": {},
   "outputs": [],
   "source": []
  }
 ],
 "metadata": {
  "kernelspec": {
   "display_name": "Python 3 (ipykernel)",
   "language": "python",
   "name": "python3"
  },
  "language_info": {
   "codemirror_mode": {
    "name": "ipython",
    "version": 3
   },
   "file_extension": ".py",
   "mimetype": "text/x-python",
   "name": "python",
   "nbconvert_exporter": "python",
   "pygments_lexer": "ipython3",
   "version": "3.11.4"
  }
 },
 "nbformat": 4,
 "nbformat_minor": 5
}
